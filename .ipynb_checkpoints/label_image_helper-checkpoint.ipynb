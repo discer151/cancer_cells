{
 "cells": [
  {
   "cell_type": "code",
   "execution_count": 5,
   "metadata": {},
   "outputs": [
    {
     "data": {
      "text/plain": [
       "0"
      ]
     },
     "execution_count": 5,
     "metadata": {},
     "output_type": "execute_result"
    }
   ],
   "source": [
    "import numpy as np\n",
    "import tensorflow as tf\n",
    "import tensorflow_hub as hub\n",
    "\n",
    "import subprocess\n",
    "\n",
    "\n",
    "graph = ' --graph=output_files/output_graph.pb --labels=output_files/output_labels.txt'\n",
    "input_layer = ' --input_layer=Placeholder'\n",
    "output_layer = ' --output_layer=final_result'\n",
    "input_dim = ' --input_height=299 --input_width=299'\n",
    "image = ' --image=cleaned_cell_type_images/filopodia/filopodia_145.jpg'\n",
    "\n",
    "subprocess.call('python label_image.py'\n",
    "                + graph\n",
    "                + input_layer\n",
    "                + output_layer\n",
    "                + input_dim\n",
    "                + image,\n",
    "                shell=True)"
   ]
  },
  {
   "cell_type": "code",
   "execution_count": null,
   "metadata": {},
   "outputs": [],
   "source": []
  }
 ],
 "metadata": {
  "kernelspec": {
   "display_name": "Python 3",
   "language": "python",
   "name": "python3"
  },
  "language_info": {
   "codemirror_mode": {
    "name": "ipython",
    "version": 3
   },
   "file_extension": ".py",
   "mimetype": "text/x-python",
   "name": "python",
   "nbconvert_exporter": "python",
   "pygments_lexer": "ipython3",
   "version": "3.6.0"
  }
 },
 "nbformat": 4,
 "nbformat_minor": 2
}
