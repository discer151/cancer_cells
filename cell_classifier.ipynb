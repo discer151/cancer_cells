{
 "cells": [
  {
   "cell_type": "markdown",
   "metadata": {},
   "source": [
    "# Cell Type Classifier\n",
    "Classify cell type images from Bo Sun's Lab."
   ]
  },
  {
   "cell_type": "code",
   "execution_count": 1,
   "metadata": {},
   "outputs": [],
   "source": [
    "from __future__ import absolute_import\n",
    "from __future__ import division\n",
    "from __future__ import print_function\n",
    "from IPython.display import Image\n",
    "\n",
    "import numpy as np\n",
    "import tensorflow as tf\n",
    "import label_image"
   ]
  },
  {
   "cell_type": "markdown",
   "metadata": {},
   "source": [
    "### Choose image to be classified."
   ]
  },
  {
   "cell_type": "code",
   "execution_count": 2,
   "metadata": {},
   "outputs": [
    {
     "name": "stdout",
     "output_type": "stream",
     "text": [
      "Cell Type: hemisphere\n"
     ]
    },
    {
     "data": {
      "image/jpeg": "[encoded data removed]",
      "text/plain": [
       "<IPython.core.display.Image object>"
      ]
     },
     "execution_count": 2,
     "metadata": {},
     "output_type": "execute_result"
    }
   ],
   "source": [
    "# cell types: 'filopodia', 'smallbleb', 'actinedge', 'hemisphere', 'lamellipodia'\n",
    "cell_type = 'hemisphere'\n",
    "cell_num = 32\n",
    "\n",
    "\n",
    "file_name = 'original_cell_type_images/'+cell_type+'/'+cell_type+'_'+str(cell_num)+'.jpg'\n",
    "print('Cell Type:', cell_type)\n",
    "Image(file_name)"
   ]
  },
  {
   "cell_type": "code",
   "execution_count": 4,
   "metadata": {},
   "outputs": [],
   "source": [
    "# Available Trained models\n",
    "inception_v1 = \"output_files/output_graph_inception_v1.pb\"\n",
    "inception_v2 = \"output_files/output_graph_inception_v2.pb\"\n",
    "inception_v3 = \"output_files/output_graph_inception_v3.pb\"\n",
    "mobilenet_v1 = 'output_graph_mobilenet_v1.pb'\n",
    "mobilenet_v2 = 'output_graph_mobilenet_v2.pb'\n",
    "inception_resnet_v2 = 'output_graph_inception_resnet_v2.pb'"
   ]
  },
  {
   "cell_type": "markdown",
   "metadata": {},
   "source": [
    "#### Choose Model (model_file)..."
   ]
  },
  {
   "cell_type": "code",
   "execution_count": 5,
   "metadata": {},
   "outputs": [],
   "source": [
    "model_file = inception_v3\n",
    "\n",
    "\n",
    "# other paramaters with default values\n",
    "label_file = \"output_files/output_labels.txt\"\n",
    "input_height = 299\n",
    "input_width = 299\n",
    "input_mean = 0\n",
    "input_std = 255\n",
    "input_layer = 'Placeholder'\n",
    "output_layer = 'final_result'"
   ]
  },
  {
   "cell_type": "markdown",
   "metadata": {},
   "source": [
    "#### Run Prediction..."
   ]
  },
  {
   "cell_type": "code",
   "execution_count": 6,
   "metadata": {},
   "outputs": [],
   "source": [
    "graph = label_image.load_graph(model_file)\n",
    "t = label_image.read_tensor_from_image_file(\n",
    "    file_name,\n",
    "    input_height=input_height,\n",
    "    input_width=input_width,\n",
    "    input_mean=input_mean,\n",
    "    input_std=input_std)\n",
    "\n",
    "input_name = \"import/\" + input_layer\n",
    "output_name = \"import/\" + output_layer\n",
    "input_operation = graph.get_operation_by_name(input_name)\n",
    "output_operation = graph.get_operation_by_name(output_name)\n",
    "\n",
    "with tf.Session(graph=graph) as sess:\n",
    "    results = sess.run(output_operation.outputs[0], {\n",
    "    input_operation.outputs[0]: t\n",
    "    })\n",
    "    results = np.squeeze(results)\n",
    "\n",
    "top_k = results.argsort()[-5:][::-1]\n",
    "labels = label_image.load_labels(label_file)\n",
    "predict = []\n",
    "for i in top_k:\n",
    "    predict.append([labels[i], results[i]])"
   ]
  },
  {
   "cell_type": "markdown",
   "metadata": {},
   "source": [
    "#### Print Results..."
   ]
  },
  {
   "cell_type": "code",
   "execution_count": 8,
   "metadata": {},
   "outputs": [
    {
     "name": "stdout",
     "output_type": "stream",
     "text": [
      "Cell Type: hemisphere\n",
      "\u001b[1mBest Prediction: hemisphere \n",
      " \u001b[0m\n",
      "['hemisphere', 0.8176613]\n",
      "['lamellipodia', 0.09252905]\n",
      "['smallbleb', 0.0743484]\n",
      "['actinedge', 0.0154509805]\n",
      "['filopodia', 1.0355698e-05]\n"
     ]
    },
    {
     "data": {
      "image/jpeg": "[encoded data removed]",
      "text/plain": [
       "<IPython.core.display.Image object>"
      ]
     },
     "execution_count": 8,
     "metadata": {},
     "output_type": "execute_result"
    }
   ],
   "source": [
    "Image(file_name)\n",
    "\n",
    "print('Cell Type:', cell_type)\n",
    "print('\\033[1m'+'Best Prediction:',predict[0][0],'\\n','\\033[0m')\n",
    "for i in predict:\n",
    "    print(i)\n",
    "    \n",
    "Image(file_name)"
   ]
  },
  {
   "cell_type": "code",
   "execution_count": null,
   "metadata": {},
   "outputs": [],
   "source": []
  }
 ],
 "metadata": {
  "kernelspec": {
   "display_name": "Python 3",
   "language": "python",
   "name": "python3"
  },
  "language_info": {
   "codemirror_mode": {
    "name": "ipython",
    "version": 3
   },
   "file_extension": ".py",
   "mimetype": "text/x-python",
   "name": "python",
   "nbconvert_exporter": "python",
   "pygments_lexer": "ipython3",
   "version": "3.6.0"
  }
 },
 "nbformat": 4,
 "nbformat_minor": 2
}
