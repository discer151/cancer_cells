{
 "cells": [
  {
   "cell_type": "markdown",
   "metadata": {},
   "source": [
    "# Retrain Helper\n",
    "\n",
    "Helper Function for retraining image classifier originally trained on imagenet dataset, using retrain.py."
   ]
  },
  {
   "cell_type": "code",
   "execution_count": 1,
   "metadata": {},
   "outputs": [],
   "source": [
    "import subprocess"
   ]
  },
  {
   "cell_type": "markdown",
   "metadata": {},
   "source": [
    "### Choose the Network Architechture Module\n",
    "\n",
    "TensorFlow Hub modules (network architectures): https://github.com/tensorflow/hub/blob/r0.1/docs/modules/image.md\n",
    "\n",
    "A few of the standards defined here:\n",
    "'inception_v1', 'inception_v2', 'inception_v3', 'inception_resnet_v2', 'mobilenet_v1', 'mobilenet_v2'"
   ]
  },
  {
   "cell_type": "code",
   "execution_count": 6,
   "metadata": {},
   "outputs": [],
   "source": [
    "module_name = 'inception_v2'  # choose predefined module form above or give module path\n",
    "training_instance_name = '' # default ''. Add training_name to differentiate multiple retrained models using the same module.\n",
    "module_path = ''  #OPTIONAL: If using a module that isn't on the pre-defined list above, give new path here. Otherwise leave as default ''."
   ]
  },
  {
   "cell_type": "markdown",
   "metadata": {},
   "source": [
    "### Choose Image Directory to Train From"
   ]
  },
  {
   "cell_type": "code",
   "execution_count": 7,
   "metadata": {},
   "outputs": [],
   "source": [
    "image_dir = 'original_cell_type_images'  # Path to folders of labeled images."
   ]
  },
  {
   "cell_type": "markdown",
   "metadata": {},
   "source": [
    "### Define Optional Parameters"
   ]
  },
  {
   "cell_type": "code",
   "execution_count": 8,
   "metadata": {},
   "outputs": [],
   "source": [
    "output_graph =  'output_files/output_graph_' + module_name + training_instance_name + '.pb' # Where to save the trained graph.\n",
    "output_labels =  'output_files/output_labels.txt' #'Where to save the trained graph\\'s labels.'\n",
    "summaries_dir =  'output_files/retrain_logs' #'Where to save summary logs for TensorBoard.'\n",
    "how_many_training_steps = '4000' # default 4000\n",
    "learning_rate = '0.01'  # default 0.01\n",
    "train_batch_size = '100'  # default 100\n",
    "test_batch_size = '100' # default -1, which uses all images for final testing\n",
    "\n",
    "print_misclassified_test_images = 'True' # Whether to print out a list of all misclassified test images.\n",
    "saved_model_dir = 'output_files/saved_model_' + module_name + training_instance_name\n",
    "tensorboard_path = 'http://DESKTOP-MRLJ0OI:6006'\n",
    "\n",
    "if(module_path==''):\n",
    "    if(module_name == 'inception_v1'):\n",
    "        tfhub_module = 'https://tfhub.dev/google/imagenet/inception_v1/classification/1' \n",
    "    if(module_name == 'inception_v2'):\n",
    "        tfhub_module = 'https://tfhub.dev/google/imagenet/inception_v2/classification/1'\n",
    "    if(module_name == 'inception_v3'):\n",
    "        tfhub_module = 'https://tfhub.dev/google/imagenet/inception_v3/classification/1' \n",
    "    if(module_name == 'inception_resnet_v2'):\n",
    "        tfhub_module = 'https://tfhub.dev/google/imagenet/inception_resnet_v2/classification/1'\n",
    "    if(module_name == 'mobilenet_v1'):\n",
    "        tfhub_module = 'https://tfhub.dev/google/imagenet/mobilenet_v1_100_224/classification/1'\n",
    "    if(module_name == 'mobilenet_v2'):\n",
    "        tfhub_module = 'https://tfhub.dev/google/imagenet/mobilenet_v2_100_224/classification/1'\n"
   ]
  },
  {
   "cell_type": "markdown",
   "metadata": {},
   "source": [
    "### Run Retrain Script"
   ]
  },
  {
   "cell_type": "code",
   "execution_count": 9,
   "metadata": {
    "scrolled": true
   },
   "outputs": [
    {
     "data": {
      "text/plain": [
       "0"
      ]
     },
     "execution_count": 9,
     "metadata": {},
     "output_type": "execute_result"
    }
   ],
   "source": [
    "subprocess.call('python retrain.py'\n",
    "                + ' --image_dir ' + image_dir  \n",
    "                + ' --output_graph ' + output_graph\n",
    "                + ' --output_labels ' + output_labels\n",
    "                + ' --summaries_dir ' +  summaries_dir\n",
    "                + ' --how_many_training_steps ' + how_many_training_steps\n",
    "                + ' --learning_rate ' + learning_rate\n",
    "                + ' --train_batch_size ' + train_batch_size\n",
    "                + ' --test_batch_size' + test_batch_size\n",
    "                + ' --print_misclassified_test_images ' + print_misclassified_test_images\n",
    "                + ' --tfhub_module ' + tfhub_module\n",
    "                + ' --saved_model_dir ' + saved_model_dir, \n",
    "                shell=True)"
   ]
  },
  {
   "cell_type": "markdown",
   "metadata": {},
   "source": [
    "### Visualize with Tensorboard"
   ]
  },
  {
   "cell_type": "code",
   "execution_count": null,
   "metadata": {},
   "outputs": [],
   "source": [
    "subprocess.call('tensorboard --logdir='+summaries_dir, shell=True)"
   ]
  }
 ],
 "metadata": {
  "kernelspec": {
   "display_name": "Python 3",
   "language": "python",
   "name": "python3"
  },
  "language_info": {
   "codemirror_mode": {
    "name": "ipython",
    "version": 3
   },
   "file_extension": ".py",
   "mimetype": "text/x-python",
   "name": "python",
   "nbconvert_exporter": "python",
   "pygments_lexer": "ipython3",
   "version": "3.6.0"
  }
 },
 "nbformat": 4,
 "nbformat_minor": 2
}
